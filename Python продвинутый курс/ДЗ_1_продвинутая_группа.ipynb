{
  "nbformat": 4,
  "nbformat_minor": 0,
  "metadata": {
    "colab": {
      "provenance": []
    },
    "kernelspec": {
      "name": "python3",
      "display_name": "Python 3"
    },
    "language_info": {
      "name": "python"
    }
  },
  "cells": [
    {
      "cell_type": "markdown",
      "source": [
        "Задача 1. Декоратор. (15)\n",
        "Напишите декоратор, который будет выполнять функцию трижды, делая между выполнениями перерыв в 2 секунды. После каждого выполнения декоратор должен выводить на экран аргументы функции и результат работы (возвращаемое значение)"
      ],
      "metadata": {
        "id": "gJKT2ZXvi258"
      }
    },
    {
      "cell_type": "code",
      "source": [
        "import time\n",
        "\n",
        "def decorator_tree_timesleep(some_function):\n",
        "    def wrapper(phrase, times):\n",
        "        for i in [1,2,3]:\n",
        "          result = some_function(phrase, times)\n",
        "          print(f\"Аргументы: {phrase}, {times}. Результат: {result}\")\n",
        "          print('Перерыв')\n",
        "          time.sleep(2)\n",
        "    return wrapper\n",
        "\n",
        "@decorator_tree_timesleep\n",
        "def some_function(phrase, times):\n",
        "    result = phrase * times\n",
        "    return result\n",
        "\n",
        "some_function('phrase', 5)"
      ],
      "metadata": {
        "colab": {
          "base_uri": "https://localhost:8080/"
        },
        "id": "vD8l8M-kaEsf",
        "outputId": "927a783d-9ede-44b5-9814-39dfd4cb64ad"
      },
      "execution_count": 15,
      "outputs": [
        {
          "output_type": "stream",
          "name": "stdout",
          "text": [
            "Аргументы: phrase, 5. Результат: phrasephrasephrasephrasephrase\n",
            "Перерыв\n",
            "Аргументы: phrase, 5. Результат: phrasephrasephrasephrasephrase\n",
            "Перерыв\n",
            "Аргументы: phrase, 5. Результат: phrasephrasephrasephrasephrase\n",
            "Перерыв\n"
          ]
        }
      ]
    },
    {
      "cell_type": "markdown",
      "source": [
        "Задача 2. Генератор. (20)\n",
        "Напишите генератор, который принимает коллекцию с вложенными итерируемыми объектами, а возвращает каждый элемент последовательно.Если \"распаковать\" все получаемые значения в list, получится \"сплющенный\" список. Например:\n",
        "\n",
        "[[1, 2, 3], [4, [5, 6, [7, 8]]]] -> [1, 2, 3, 4, 5, 6, 7, 8]"
      ],
      "metadata": {
        "id": "p312HIj5i2XZ"
      }
    },
    {
      "cell_type": "code",
      "source": [
        "# я вообще не поняла как должен распаковывать генератор словари. ТЗ очень нечеткое"
      ],
      "metadata": {
        "id": "svGsAxjai8TF"
      },
      "execution_count": null,
      "outputs": []
    },
    {
      "cell_type": "code",
      "source": [
        "def generator(collection):"
      ],
      "metadata": {
        "id": "gDTi24rpi1ta"
      },
      "execution_count": null,
      "outputs": []
    },
    {
      "cell_type": "markdown",
      "source": [
        "Задача 3. itertools (15)\n",
        "Модуль itertools представляет много инструментов для работы с итераторами.\n",
        "\n",
        "Ознакомиться с ними можно здесь: https://docs.python.org/3/library/itertools.html\n",
        "\n",
        "Вводится числа через пробел с одной строке. Затем вводится число n.\n",
        "\n",
        "Напишите программу, которая находит все уникальные пары чисел из списка, где сумма каждой пары равна числу n. Можете использовать itertools.\n",
        "\n",
        "Например, списка [1, 2, 3, 4, 5, 6] и n=7 программа должна вывести пары чисел, которые в сумме дают 7: [(1, 6), (2, 5), (3, 4)]."
      ],
      "metadata": {
        "id": "eGR7cupJoVca"
      }
    },
    {
      "cell_type": "code",
      "source": [
        "from itertools import combinations\n",
        "\n",
        "num_list = [int(i) for i in list(input().strip().split(' '))]\n",
        "n = int(input())\n",
        "\n",
        "valid_pairs = [i for i in list(combinations(num_list, 2)) if i[0] + i[1] == n]\n",
        "print(valid_pairs)"
      ],
      "metadata": {
        "colab": {
          "base_uri": "https://localhost:8080/"
        },
        "id": "TW-3QI7eoWGd",
        "outputId": "30ac4a4a-9bd4-4229-ed25-4234f4b6c5c4"
      },
      "execution_count": 16,
      "outputs": [
        {
          "output_type": "stream",
          "name": "stdout",
          "text": [
            "1 2 3 4\n",
            "4\n",
            "[(1, 3)]\n"
          ]
        }
      ]
    },
    {
      "cell_type": "code",
      "source": [
        "from itertools import combinations\n",
        "\n",
        "num_list = [int(i) for i in list(input().strip().split(' '))]\n",
        "n = int(input())\n",
        "\n",
        "valid_pairs = [i for i in list(combinations(num_list, 2)) if i[0] + i[1] == n]\n",
        "print(valid_pairs)"
      ],
      "metadata": {
        "colab": {
          "base_uri": "https://localhost:8080/"
        },
        "id": "VPK8ixUxrk7h",
        "outputId": "6958a947-4686-4ecb-d203-338c570cfdf6"
      },
      "execution_count": 18,
      "outputs": [
        {
          "output_type": "stream",
          "name": "stdout",
          "text": [
            "1 2 3 4 5 6\n",
            "7\n",
            "[(1, 6), (2, 5), (3, 4)]\n"
          ]
        }
      ]
    },
    {
      "cell_type": "markdown",
      "source": [
        "Задача 4.1 Очень функциональное программирование (2).\n",
        "Вводятся числа в одной строке через пробел.\n",
        "\n",
        "Например, '4 2 5 2 5 1'\n",
        "\n",
        "Необходимо найти наименьшее нечетное число. Например, для примера выше это 1.\n",
        "\n",
        "Решение должно занимать ровно одну строку любой длины.\n",
        "\n",
        "Запрещено использовать циклы, условные операторы и list comprehension."
      ],
      "metadata": {
        "id": "mGg5Lhadr2VQ"
      }
    },
    {
      "cell_type": "code",
      "source": [
        "print(min(i for i in map(int, list(input().strip().split(' '))) if i % 2 != 0))"
      ],
      "metadata": {
        "colab": {
          "base_uri": "https://localhost:8080/"
        },
        "id": "ltyrBdC6r1yF",
        "outputId": "1b07cf56-8e8f-403e-9613-26d03e9ef4b1"
      },
      "execution_count": 20,
      "outputs": [
        {
          "output_type": "stream",
          "name": "stdout",
          "text": [
            "4 2 5 2 5 1\n",
            "1\n"
          ]
        }
      ]
    },
    {
      "cell_type": "markdown",
      "source": [
        "Задача 4.2 itertools и очень функциональное программирование (3).\n",
        "Вводится одно число n.\n",
        "\n",
        "Используя модуль itertools, выведите в одной строке через запятую и пробел факториалы чисел от 0 до n.\n",
        "\n",
        "Запрещено использовать циклы, условные операторы и list comprehension.\n",
        "\n",
        "Например, для n = 7 на экран надо вывести:\n",
        "\n",
        "1, 1, 2, 6, 24, 120, 720, 5040"
      ],
      "metadata": {
        "id": "IaZQR-lWugoI"
      }
    },
    {
      "cell_type": "code",
      "source": [
        "n = int(input())\n",
        "\n",
        "import itertools as itertools\n",
        "import math\n",
        "import operator\n",
        "\n",
        "#fact = list(map(math.factorial, list(range(0, n + 1)))) #решение через math\n",
        "\n",
        "fact = itertools.accumulate([1]+ list(range(0, n + 1))[1:], operator.mul) #через оператор\n",
        "print(*fact, sep=',')\n",
        "\n",
        "# что вообще можно использовать, а что нельзя???"
      ],
      "metadata": {
        "colab": {
          "base_uri": "https://localhost:8080/"
        },
        "id": "VsQUyIfgulRj",
        "outputId": "d8ae8738-ed5c-44b2-fe66-258dfab19f4a"
      },
      "execution_count": 13,
      "outputs": [
        {
          "output_type": "stream",
          "name": "stdout",
          "text": [
            "7\n",
            "1,1,2,6,24,120,720,5040\n"
          ]
        }
      ]
    }
  ]
}