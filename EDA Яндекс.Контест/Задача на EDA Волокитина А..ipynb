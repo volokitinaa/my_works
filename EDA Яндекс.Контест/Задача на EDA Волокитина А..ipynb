{
 "cells": [
  {
   "cell_type": "markdown",
   "id": "0740fa95",
   "metadata": {},
   "source": [
    "## Студент Волокитина Анастасия\n",
    "## Часть 1: парсер"
   ]
  },
  {
   "cell_type": "markdown",
   "id": "dc119023",
   "metadata": {},
   "source": [
    "Они находятся в этом каталоге: https://www.litres.ru/genre/programmirovanie-5272/\n",
    "\n",
    "Вам нужно собрать датасет о книгах с первых 40-ти страниц каталога (около 960 книг.) Подсказка. Можете начать с исследования html кода этой страницы.\n",
    "\n",
    "Вам необходимо собрать датасет, содержащий следующие данные:\n",
    "\n",
    "- name: название книги\n",
    "- author: автор\n",
    "- link: ссылка на книгу\n",
    "- rating: рейтинг по 5-балльной шкале\n",
    "- rating_count: количество оценок\n",
    "- review_count: количество отзывов\n",
    "- pages_count: объем (число страниц)\n",
    "- price: цена\n",
    "- text_reviews: тексты отзывов: список строк\n",
    "- age: возрастное ограничение\n",
    "- year: год написания"
   ]
  },
  {
   "cell_type": "code",
   "execution_count": 4,
   "id": "2f6fc89a",
   "metadata": {},
   "outputs": [],
   "source": [
    "#pip install beautifulsoup4\n",
    "#pip install requests"
   ]
  },
  {
   "cell_type": "code",
   "execution_count": 5,
   "id": "efcfac0e",
   "metadata": {},
   "outputs": [],
   "source": [
    "#импортируем необходимые библиотеки\n",
    "import requests\n",
    "from bs4 import BeautifulSoup"
   ]
  },
  {
   "cell_type": "code",
   "execution_count": 7,
   "id": "0e8fdfa4",
   "metadata": {},
   "outputs": [],
   "source": [
    "#выполним GEt запрос\n",
    "url = 'https://www.litres.ru/genre/programmirovanie-5272/'\n",
    "response = requests.get(url)\n",
    "soup = BeautifulSoup(response.text, 'html.parser')"
   ]
  },
  {
   "cell_type": "code",
   "execution_count": 187,
   "id": "41f77bc7",
   "metadata": {},
   "outputs": [],
   "source": [
    "#print(soup)"
   ]
  },
  {
   "cell_type": "code",
   "execution_count": null,
   "id": "b28bca2a",
   "metadata": {},
   "outputs": [],
   "source": [
    "#не стала делать парсер"
   ]
  },
  {
   "cell_type": "markdown",
   "id": "575c6618",
   "metadata": {},
   "source": [
    "## Часть 2: EDA\n"
   ]
  },
  {
   "cell_type": "code",
   "execution_count": 78,
   "id": "14b14b99",
   "metadata": {},
   "outputs": [],
   "source": [
    "import pandas as pd\n",
    "import numpy as np\n",
    "import seaborn as sns\n",
    "import matplotlib.pyplot as plt"
   ]
  },
  {
   "cell_type": "markdown",
   "id": "c88fae39",
   "metadata": {},
   "source": [
    "Смотрим на датасет (5 строк)"
   ]
  },
  {
   "cell_type": "code",
   "execution_count": 52,
   "id": "fd3fb890",
   "metadata": {
    "scrolled": false
   },
   "outputs": [
    {
     "data": {
      "text/html": [
       "<div>\n",
       "<style scoped>\n",
       "    .dataframe tbody tr th:only-of-type {\n",
       "        vertical-align: middle;\n",
       "    }\n",
       "\n",
       "    .dataframe tbody tr th {\n",
       "        vertical-align: top;\n",
       "    }\n",
       "\n",
       "    .dataframe thead th {\n",
       "        text-align: right;\n",
       "    }\n",
       "</style>\n",
       "<table border=\"1\" class=\"dataframe\">\n",
       "  <thead>\n",
       "    <tr style=\"text-align: right;\">\n",
       "      <th></th>\n",
       "      <th>name</th>\n",
       "      <th>author</th>\n",
       "      <th>link</th>\n",
       "      <th>rating</th>\n",
       "      <th>rating_count</th>\n",
       "      <th>review_count</th>\n",
       "      <th>price</th>\n",
       "      <th>pages</th>\n",
       "      <th>pages_count</th>\n",
       "      <th>text_of_reviews</th>\n",
       "      <th>age</th>\n",
       "      <th>year</th>\n",
       "    </tr>\n",
       "  </thead>\n",
       "  <tbody>\n",
       "    <tr>\n",
       "      <th>0</th>\n",
       "      <td>Нейросети начало</td>\n",
       "      <td>Джейд Картер</td>\n",
       "      <td>https://www.litres.ru/book/dzheyd-karter/neyro...</td>\n",
       "      <td>4.9</td>\n",
       "      <td>433</td>\n",
       "      <td>37</td>\n",
       "      <td>690.0</td>\n",
       "      <td>102 стр. 4 иллюстрации</td>\n",
       "      <td>102</td>\n",
       "      <td>['Книга отличная. Давно хотела понять как все ...</td>\n",
       "      <td>12+</td>\n",
       "      <td>2023</td>\n",
       "    </tr>\n",
       "    <tr>\n",
       "      <th>1</th>\n",
       "      <td>Python 3 и PyQt 6. Разработка приложений</td>\n",
       "      <td>Николай Прохоренок</td>\n",
       "      <td>https://www.litres.ru/book/vladimir-dronov/pyt...</td>\n",
       "      <td>4.7</td>\n",
       "      <td>3</td>\n",
       "      <td>1</td>\n",
       "      <td>549.0</td>\n",
       "      <td>831 стр.</td>\n",
       "      <td>831</td>\n",
       "      <td>['Большая книга, посвященная реализации графич...</td>\n",
       "      <td>0+</td>\n",
       "      <td>2023</td>\n",
       "    </tr>\n",
       "    <tr>\n",
       "      <th>2</th>\n",
       "      <td>Система взаимодействия. Коммуникации в бизнес-...</td>\n",
       "      <td>Е. Ю. Хрусталева</td>\n",
       "      <td>https://www.litres.ru/book/e-u-hrustaleva/sist...</td>\n",
       "      <td>4.3</td>\n",
       "      <td>10</td>\n",
       "      <td>3</td>\n",
       "      <td>250.0</td>\n",
       "      <td>130 стр.</td>\n",
       "      <td>130</td>\n",
       "      <td>['Полезная книга. Есть примеры оповещения поль...</td>\n",
       "      <td>12+</td>\n",
       "      <td>2019</td>\n",
       "    </tr>\n",
       "    <tr>\n",
       "      <th>3</th>\n",
       "      <td>Постановка задачи обеспечения автоматизации по...</td>\n",
       "      <td>О. В. Тиханычев</td>\n",
       "      <td>https://www.litres.ru/book/o-v-tihanychev/post...</td>\n",
       "      <td>0.0</td>\n",
       "      <td>0</td>\n",
       "      <td>0</td>\n",
       "      <td>168.0</td>\n",
       "      <td>10 стр.</td>\n",
       "      <td>10</td>\n",
       "      <td>[]</td>\n",
       "      <td>0+</td>\n",
       "      <td>2021</td>\n",
       "    </tr>\n",
       "    <tr>\n",
       "      <th>4</th>\n",
       "      <td>Разработка и реализация портальных решений. Пр...</td>\n",
       "      <td>С. В. Маркова</td>\n",
       "      <td>https://www.litres.ru/book/pavel-lukyanov/razr...</td>\n",
       "      <td>0.0</td>\n",
       "      <td>0</td>\n",
       "      <td>0</td>\n",
       "      <td>350.0</td>\n",
       "      <td>166 стр.</td>\n",
       "      <td>166</td>\n",
       "      <td>[]</td>\n",
       "      <td>0+</td>\n",
       "      <td>2020</td>\n",
       "    </tr>\n",
       "  </tbody>\n",
       "</table>\n",
       "</div>"
      ],
      "text/plain": [
       "                                                name              author  \\\n",
       "0                                   Нейросети начало        Джейд Картер   \n",
       "1           Python 3 и PyQt 6. Разработка приложений  Николай Прохоренок   \n",
       "2  Система взаимодействия. Коммуникации в бизнес-...    Е. Ю. Хрусталева   \n",
       "3  Постановка задачи обеспечения автоматизации по...     О. В. Тиханычев   \n",
       "4  Разработка и реализация портальных решений. Пр...       С. В. Маркова   \n",
       "\n",
       "                                                link  rating  rating_count  \\\n",
       "0  https://www.litres.ru/book/dzheyd-karter/neyro...     4.9           433   \n",
       "1  https://www.litres.ru/book/vladimir-dronov/pyt...     4.7             3   \n",
       "2  https://www.litres.ru/book/e-u-hrustaleva/sist...     4.3            10   \n",
       "3  https://www.litres.ru/book/o-v-tihanychev/post...     0.0             0   \n",
       "4  https://www.litres.ru/book/pavel-lukyanov/razr...     0.0             0   \n",
       "\n",
       "   review_count  price                   pages  pages_count  \\\n",
       "0            37  690.0  102 стр. 4 иллюстрации          102   \n",
       "1             1  549.0               831 стр.           831   \n",
       "2             3  250.0               130 стр.           130   \n",
       "3             0  168.0                10 стр.            10   \n",
       "4             0  350.0               166 стр.           166   \n",
       "\n",
       "                                     text_of_reviews  age  year  \n",
       "0  ['Книга отличная. Давно хотела понять как все ...  12+  2023  \n",
       "1  ['Большая книга, посвященная реализации графич...   0+  2023  \n",
       "2  ['Полезная книга. Есть примеры оповещения поль...  12+  2019  \n",
       "3                                                 []   0+  2021  \n",
       "4                                                 []   0+  2020  "
      ]
     },
     "execution_count": 52,
     "metadata": {},
     "output_type": "execute_result"
    }
   ],
   "source": [
    "data = pd.read_csv('/Users/anastasiavolokitina/Downloads/litres_programming_data.csv')\n",
    "data.drop(data.columns [0], axis= 1 , inplace= True ) #уберем первую колонку с индексом\n",
    "data.head()"
   ]
  },
  {
   "cell_type": "markdown",
   "id": "acc6710d",
   "metadata": {},
   "source": [
    "**В датасете 12 колонок и 965 строк.\n",
    "А так же нет пропусков ни в одной колонке ( Non-Null Count = количеству строк)**"
   ]
  },
  {
   "cell_type": "code",
   "execution_count": 53,
   "id": "f466f901",
   "metadata": {},
   "outputs": [
    {
     "name": "stdout",
     "output_type": "stream",
     "text": [
      "<class 'pandas.core.frame.DataFrame'>\n",
      "RangeIndex: 965 entries, 0 to 964\n",
      "Data columns (total 12 columns):\n",
      " #   Column           Non-Null Count  Dtype  \n",
      "---  ------           --------------  -----  \n",
      " 0   name             965 non-null    object \n",
      " 1   author           965 non-null    object \n",
      " 2   link             965 non-null    object \n",
      " 3   rating           965 non-null    float64\n",
      " 4   rating_count     965 non-null    int64  \n",
      " 5   review_count     965 non-null    int64  \n",
      " 6   price            965 non-null    float64\n",
      " 7   pages            965 non-null    object \n",
      " 8   pages_count      965 non-null    int64  \n",
      " 9   text_of_reviews  965 non-null    object \n",
      " 10  age              965 non-null    object \n",
      " 11  year             965 non-null    int64  \n",
      "dtypes: float64(2), int64(4), object(6)\n",
      "memory usage: 90.6+ KB\n"
     ]
    }
   ],
   "source": [
    "data.info()"
   ]
  },
  {
   "cell_type": "markdown",
   "id": "fccdf3eb",
   "metadata": {},
   "source": [
    "Если считать это пропусками, то в колонке text_of_reviews есть кейсы с '[]' в случаях, когда отзывов нет"
   ]
  },
  {
   "cell_type": "markdown",
   "id": "92400733",
   "metadata": {},
   "source": [
    "Все колонки, которые должны быть с числовыми тами данных, уже с типами int64 или float64. Однако также переведу в числовой тип данных колонку age, которая показывает возрастное ограничение"
   ]
  },
  {
   "cell_type": "code",
   "execution_count": 54,
   "id": "307e95a5",
   "metadata": {},
   "outputs": [
    {
     "name": "stdout",
     "output_type": "stream",
     "text": [
      "<class 'pandas.core.frame.DataFrame'>\n",
      "RangeIndex: 965 entries, 0 to 964\n",
      "Data columns (total 12 columns):\n",
      " #   Column           Non-Null Count  Dtype  \n",
      "---  ------           --------------  -----  \n",
      " 0   name             965 non-null    object \n",
      " 1   author           965 non-null    object \n",
      " 2   link             965 non-null    object \n",
      " 3   rating           965 non-null    float64\n",
      " 4   rating_count     965 non-null    int64  \n",
      " 5   review_count     965 non-null    int64  \n",
      " 6   price            965 non-null    float64\n",
      " 7   pages            965 non-null    object \n",
      " 8   pages_count      965 non-null    int64  \n",
      " 9   text_of_reviews  965 non-null    object \n",
      " 10  age              965 non-null    int64  \n",
      " 11  year             965 non-null    int64  \n",
      "dtypes: float64(2), int64(5), object(5)\n",
      "memory usage: 90.6+ KB\n"
     ]
    }
   ],
   "source": [
    "data['age'] = data.age.str.extract('(^\\d*)') #берем только цифры(это иключит + в конце)\n",
    "data['age'] = data['age'].astype(int)\n",
    "data.info()"
   ]
  },
  {
   "cell_type": "markdown",
   "id": "9c4941ed",
   "metadata": {},
   "source": [
    "#### 4. Посмотрим все базовые статистики"
   ]
  },
  {
   "cell_type": "code",
   "execution_count": 55,
   "id": "27fe4010",
   "metadata": {},
   "outputs": [
    {
     "data": {
      "text/html": [
       "<div>\n",
       "<style scoped>\n",
       "    .dataframe tbody tr th:only-of-type {\n",
       "        vertical-align: middle;\n",
       "    }\n",
       "\n",
       "    .dataframe tbody tr th {\n",
       "        vertical-align: top;\n",
       "    }\n",
       "\n",
       "    .dataframe thead th {\n",
       "        text-align: right;\n",
       "    }\n",
       "</style>\n",
       "<table border=\"1\" class=\"dataframe\">\n",
       "  <thead>\n",
       "    <tr style=\"text-align: right;\">\n",
       "      <th></th>\n",
       "      <th>rating</th>\n",
       "      <th>rating_count</th>\n",
       "      <th>review_count</th>\n",
       "      <th>price</th>\n",
       "      <th>pages_count</th>\n",
       "      <th>age</th>\n",
       "      <th>year</th>\n",
       "    </tr>\n",
       "  </thead>\n",
       "  <tbody>\n",
       "    <tr>\n",
       "      <th>count</th>\n",
       "      <td>965.000000</td>\n",
       "      <td>965.000000</td>\n",
       "      <td>965.000000</td>\n",
       "      <td>965.000000</td>\n",
       "      <td>965.000000</td>\n",
       "      <td>965.000000</td>\n",
       "      <td>965.000000</td>\n",
       "    </tr>\n",
       "    <tr>\n",
       "      <th>mean</th>\n",
       "      <td>2.543420</td>\n",
       "      <td>10.338860</td>\n",
       "      <td>1.603109</td>\n",
       "      <td>348.744021</td>\n",
       "      <td>222.014508</td>\n",
       "      <td>4.800000</td>\n",
       "      <td>2016.327461</td>\n",
       "    </tr>\n",
       "    <tr>\n",
       "      <th>std</th>\n",
       "      <td>2.193727</td>\n",
       "      <td>36.058249</td>\n",
       "      <td>3.134103</td>\n",
       "      <td>279.907683</td>\n",
       "      <td>236.922129</td>\n",
       "      <td>6.650617</td>\n",
       "      <td>5.646624</td>\n",
       "    </tr>\n",
       "    <tr>\n",
       "      <th>min</th>\n",
       "      <td>0.000000</td>\n",
       "      <td>0.000000</td>\n",
       "      <td>0.000000</td>\n",
       "      <td>40.000000</td>\n",
       "      <td>2.000000</td>\n",
       "      <td>0.000000</td>\n",
       "      <td>1985.000000</td>\n",
       "    </tr>\n",
       "    <tr>\n",
       "      <th>25%</th>\n",
       "      <td>0.000000</td>\n",
       "      <td>0.000000</td>\n",
       "      <td>0.000000</td>\n",
       "      <td>129.000000</td>\n",
       "      <td>12.000000</td>\n",
       "      <td>0.000000</td>\n",
       "      <td>2012.000000</td>\n",
       "    </tr>\n",
       "    <tr>\n",
       "      <th>50%</th>\n",
       "      <td>3.600000</td>\n",
       "      <td>1.000000</td>\n",
       "      <td>0.000000</td>\n",
       "      <td>200.000000</td>\n",
       "      <td>163.000000</td>\n",
       "      <td>0.000000</td>\n",
       "      <td>2017.000000</td>\n",
       "    </tr>\n",
       "    <tr>\n",
       "      <th>75%</th>\n",
       "      <td>4.600000</td>\n",
       "      <td>6.000000</td>\n",
       "      <td>2.000000</td>\n",
       "      <td>549.000000</td>\n",
       "      <td>362.000000</td>\n",
       "      <td>12.000000</td>\n",
       "      <td>2021.000000</td>\n",
       "    </tr>\n",
       "    <tr>\n",
       "      <th>max</th>\n",
       "      <td>5.000000</td>\n",
       "      <td>433.000000</td>\n",
       "      <td>37.000000</td>\n",
       "      <td>2200.000000</td>\n",
       "      <td>1223.000000</td>\n",
       "      <td>18.000000</td>\n",
       "      <td>2024.000000</td>\n",
       "    </tr>\n",
       "  </tbody>\n",
       "</table>\n",
       "</div>"
      ],
      "text/plain": [
       "           rating  rating_count  review_count        price  pages_count  \\\n",
       "count  965.000000    965.000000    965.000000   965.000000   965.000000   \n",
       "mean     2.543420     10.338860      1.603109   348.744021   222.014508   \n",
       "std      2.193727     36.058249      3.134103   279.907683   236.922129   \n",
       "min      0.000000      0.000000      0.000000    40.000000     2.000000   \n",
       "25%      0.000000      0.000000      0.000000   129.000000    12.000000   \n",
       "50%      3.600000      1.000000      0.000000   200.000000   163.000000   \n",
       "75%      4.600000      6.000000      2.000000   549.000000   362.000000   \n",
       "max      5.000000    433.000000     37.000000  2200.000000  1223.000000   \n",
       "\n",
       "              age         year  \n",
       "count  965.000000   965.000000  \n",
       "mean     4.800000  2016.327461  \n",
       "std      6.650617     5.646624  \n",
       "min      0.000000  1985.000000  \n",
       "25%      0.000000  2012.000000  \n",
       "50%      0.000000  2017.000000  \n",
       "75%     12.000000  2021.000000  \n",
       "max     18.000000  2024.000000  "
      ]
     },
     "execution_count": 55,
     "metadata": {},
     "output_type": "execute_result"
    }
   ],
   "source": [
    "data.describe()"
   ]
  },
  {
   "cell_type": "code",
   "execution_count": 56,
   "id": "05ae3081",
   "metadata": {},
   "outputs": [
    {
     "name": "stdout",
     "output_type": "stream",
     "text": [
      "Какая медианная цена книги в вашем датасете?\n",
      "200.0\n",
      "\n",
      "Какое возрастное ограничение встречается чаще всего?\n",
      "Мода: 0    0\n",
      "Name: age, dtype: int64\n",
      "\n",
      "Какое среднее число отзывов в книге?\n",
      "1.6\n",
      "\n",
      "Сколько книг имеют оценку ниже 4.25?\n",
      "619\n",
      "\n",
      "В каком году было написано больше всего книг из датасета?\n",
      "Мода: 0    2021\n",
      "Name: year, dtype: int64\n"
     ]
    }
   ],
   "source": [
    "print('Какая медианная цена книги в вашем датасете?')\n",
    "print(data['price'].median())\n",
    "\n",
    "print()\n",
    "\n",
    "print('Какое возрастное ограничение встречается чаще всего?')\n",
    "mod = data['age'].mode()\n",
    "print(f'Мода: {mod}')\n",
    "\n",
    "print()\n",
    "\n",
    "print('Какое среднее число отзывов в книге?')\n",
    "print(round(data['review_count'].mean(),1))\n",
    "\n",
    "print()\n",
    "\n",
    "print('Сколько книг имеют оценку ниже 4.25?')\n",
    "print(data[data['rating'] < 4.25]['name'].count())\n",
    "\n",
    "print()\n",
    "\n",
    "print('В каком году было написано больше всего книг из датасета?')\n",
    "mod = data['year'].mode()\n",
    "print(f'Мода: {mod}')"
   ]
  },
  {
   "cell_type": "markdown",
   "id": "fe2dfe56",
   "metadata": {},
   "source": [
    "##### 5. Если вы работаете с готовым датасетом, то попробуйте \"достать\" из столбца pages количество страниц"
   ]
  },
  {
   "cell_type": "code",
   "execution_count": 57,
   "id": "a85c8540",
   "metadata": {},
   "outputs": [
    {
     "data": {
      "text/plain": [
       "0       102 стр. 4 иллюстрации\n",
       "1                    831 стр. \n",
       "2                    130 стр. \n",
       "3                     10 стр. \n",
       "4                    166 стр. \n",
       "                ...           \n",
       "960                  223 стр. \n",
       "961    345 стр. 93 иллюстрации\n",
       "962                   16 стр. \n",
       "963                  576 стр. \n",
       "964                   10 стр. \n",
       "Name: pages, Length: 965, dtype: object"
      ]
     },
     "execution_count": 57,
     "metadata": {},
     "output_type": "execute_result"
    }
   ],
   "source": [
    "data['pages']"
   ]
  },
  {
   "cell_type": "code",
   "execution_count": 63,
   "id": "e72ceda1",
   "metadata": {},
   "outputs": [
    {
     "data": {
      "text/html": [
       "<div>\n",
       "<style scoped>\n",
       "    .dataframe tbody tr th:only-of-type {\n",
       "        vertical-align: middle;\n",
       "    }\n",
       "\n",
       "    .dataframe tbody tr th {\n",
       "        vertical-align: top;\n",
       "    }\n",
       "\n",
       "    .dataframe thead th {\n",
       "        text-align: right;\n",
       "    }\n",
       "</style>\n",
       "<table border=\"1\" class=\"dataframe\">\n",
       "  <thead>\n",
       "    <tr style=\"text-align: right;\">\n",
       "      <th></th>\n",
       "      <th>name</th>\n",
       "      <th>author</th>\n",
       "      <th>link</th>\n",
       "      <th>rating</th>\n",
       "      <th>rating_count</th>\n",
       "      <th>review_count</th>\n",
       "      <th>price</th>\n",
       "      <th>pages</th>\n",
       "      <th>pages_count</th>\n",
       "      <th>text_of_reviews</th>\n",
       "      <th>age</th>\n",
       "      <th>year</th>\n",
       "      <th>pages_myparse</th>\n",
       "    </tr>\n",
       "  </thead>\n",
       "  <tbody>\n",
       "  </tbody>\n",
       "</table>\n",
       "</div>"
      ],
      "text/plain": [
       "Empty DataFrame\n",
       "Columns: [name, author, link, rating, rating_count, review_count, price, pages, pages_count, text_of_reviews, age, year, pages_myparse]\n",
       "Index: []"
      ]
     },
     "execution_count": 63,
     "metadata": {},
     "output_type": "execute_result"
    }
   ],
   "source": [
    "data['pages_myparse'] = data.pages.str.extract('(\\d+)(?=\\s)') #берем только цифры до первого пробела\n",
    "data['pages_myparse'] = data['pages_myparse'].astype(int)\n",
    "#а теперь есть ли кейсы, когда не мэтчится с pages_count, чтобы проверить правильность \n",
    "data[data['pages_myparse'] != data['pages_count']]"
   ]
  },
  {
   "cell_type": "markdown",
   "id": "a3625d25",
   "metadata": {},
   "source": [
    "Не сходящихся кейсов нет, значит количество страниц достала правильно"
   ]
  },
  {
   "cell_type": "markdown",
   "id": "efba8485",
   "metadata": {},
   "source": [
    "#### 6. Создайте новое поле is_popular. Значение равно 1, если рейтинг книги не менее 4.6 и при этом у нее не менее 5 отзывов, и 0 в остальных случаях"
   ]
  },
  {
   "cell_type": "code",
   "execution_count": 67,
   "id": "4929eb99",
   "metadata": {},
   "outputs": [
    {
     "data": {
      "text/html": [
       "<div>\n",
       "<style scoped>\n",
       "    .dataframe tbody tr th:only-of-type {\n",
       "        vertical-align: middle;\n",
       "    }\n",
       "\n",
       "    .dataframe tbody tr th {\n",
       "        vertical-align: top;\n",
       "    }\n",
       "\n",
       "    .dataframe thead th {\n",
       "        text-align: right;\n",
       "    }\n",
       "</style>\n",
       "<table border=\"1\" class=\"dataframe\">\n",
       "  <thead>\n",
       "    <tr style=\"text-align: right;\">\n",
       "      <th></th>\n",
       "      <th>name</th>\n",
       "      <th>author</th>\n",
       "      <th>link</th>\n",
       "      <th>rating</th>\n",
       "      <th>rating_count</th>\n",
       "      <th>review_count</th>\n",
       "      <th>price</th>\n",
       "      <th>pages</th>\n",
       "      <th>pages_count</th>\n",
       "      <th>text_of_reviews</th>\n",
       "      <th>age</th>\n",
       "      <th>year</th>\n",
       "      <th>pages_myparse</th>\n",
       "      <th>is_popular</th>\n",
       "    </tr>\n",
       "  </thead>\n",
       "  <tbody>\n",
       "    <tr>\n",
       "      <th>0</th>\n",
       "      <td>Нейросети начало</td>\n",
       "      <td>Джейд Картер</td>\n",
       "      <td>https://www.litres.ru/book/dzheyd-karter/neyro...</td>\n",
       "      <td>4.9</td>\n",
       "      <td>433</td>\n",
       "      <td>37</td>\n",
       "      <td>690.0</td>\n",
       "      <td>102 стр. 4 иллюстрации</td>\n",
       "      <td>102</td>\n",
       "      <td>['Книга отличная. Давно хотела понять как все ...</td>\n",
       "      <td>12</td>\n",
       "      <td>2023</td>\n",
       "      <td>102</td>\n",
       "      <td>1</td>\n",
       "    </tr>\n",
       "  </tbody>\n",
       "</table>\n",
       "</div>"
      ],
      "text/plain": [
       "               name        author  \\\n",
       "0  Нейросети начало  Джейд Картер   \n",
       "\n",
       "                                                link  rating  rating_count  \\\n",
       "0  https://www.litres.ru/book/dzheyd-karter/neyro...     4.9           433   \n",
       "\n",
       "   review_count  price                   pages  pages_count  \\\n",
       "0            37  690.0  102 стр. 4 иллюстрации          102   \n",
       "\n",
       "                                     text_of_reviews  age  year  \\\n",
       "0  ['Книга отличная. Давно хотела понять как все ...   12  2023   \n",
       "\n",
       "   pages_myparse  is_popular  \n",
       "0            102           1  "
      ]
     },
     "execution_count": 67,
     "metadata": {},
     "output_type": "execute_result"
    }
   ],
   "source": [
    "data['is_popular'] = np.where((data['rating'] >= 4.6) & (data['review_count'] >= 5), 1, 0)\n",
    "data.head(1)"
   ]
  },
  {
   "cell_type": "markdown",
   "id": "b2194ef0",
   "metadata": {},
   "source": [
    "#### 7. Как отличается среднее число страниц среди популярных и непопулярных книг? "
   ]
  },
  {
   "cell_type": "code",
   "execution_count": 68,
   "id": "eee7b694",
   "metadata": {},
   "outputs": [
    {
     "data": {
      "text/html": [
       "<div>\n",
       "<style scoped>\n",
       "    .dataframe tbody tr th:only-of-type {\n",
       "        vertical-align: middle;\n",
       "    }\n",
       "\n",
       "    .dataframe tbody tr th {\n",
       "        vertical-align: top;\n",
       "    }\n",
       "\n",
       "    .dataframe thead th {\n",
       "        text-align: right;\n",
       "    }\n",
       "</style>\n",
       "<table border=\"1\" class=\"dataframe\">\n",
       "  <thead>\n",
       "    <tr style=\"text-align: right;\">\n",
       "      <th></th>\n",
       "      <th>is_popular</th>\n",
       "      <th>pages_count</th>\n",
       "    </tr>\n",
       "  </thead>\n",
       "  <tbody>\n",
       "    <tr>\n",
       "      <th>0</th>\n",
       "      <td>0</td>\n",
       "      <td>216.564845</td>\n",
       "    </tr>\n",
       "    <tr>\n",
       "      <th>1</th>\n",
       "      <td>1</td>\n",
       "      <td>380.906250</td>\n",
       "    </tr>\n",
       "  </tbody>\n",
       "</table>\n",
       "</div>"
      ],
      "text/plain": [
       "   is_popular  pages_count\n",
       "0           0   216.564845\n",
       "1           1   380.906250"
      ]
     },
     "execution_count": 68,
     "metadata": {},
     "output_type": "execute_result"
    }
   ],
   "source": [
    "data.groupby(['is_popular'], as_index = False).aggregate({'pages_count': 'mean'})"
   ]
  },
  {
   "cell_type": "markdown",
   "id": "f3ee322e",
   "metadata": {},
   "source": [
    "#### 8. Выведите топ-10 книг по числу отзывов"
   ]
  },
  {
   "cell_type": "code",
   "execution_count": 74,
   "id": "a6b9511d",
   "metadata": {},
   "outputs": [
    {
     "data": {
      "text/html": [
       "<div>\n",
       "<style scoped>\n",
       "    .dataframe tbody tr th:only-of-type {\n",
       "        vertical-align: middle;\n",
       "    }\n",
       "\n",
       "    .dataframe tbody tr th {\n",
       "        vertical-align: top;\n",
       "    }\n",
       "\n",
       "    .dataframe thead th {\n",
       "        text-align: right;\n",
       "    }\n",
       "</style>\n",
       "<table border=\"1\" class=\"dataframe\">\n",
       "  <thead>\n",
       "    <tr style=\"text-align: right;\">\n",
       "      <th></th>\n",
       "      <th>name</th>\n",
       "      <th>author</th>\n",
       "      <th>link</th>\n",
       "      <th>rating</th>\n",
       "      <th>rating_count</th>\n",
       "      <th>review_count</th>\n",
       "      <th>price</th>\n",
       "      <th>pages</th>\n",
       "      <th>pages_count</th>\n",
       "      <th>text_of_reviews</th>\n",
       "      <th>age</th>\n",
       "      <th>year</th>\n",
       "      <th>pages_myparse</th>\n",
       "      <th>is_popular</th>\n",
       "    </tr>\n",
       "  </thead>\n",
       "  <tbody>\n",
       "    <tr>\n",
       "      <th>0</th>\n",
       "      <td>Нейросети начало</td>\n",
       "      <td>Джейд Картер</td>\n",
       "      <td>https://www.litres.ru/book/dzheyd-karter/neyro...</td>\n",
       "      <td>4.9</td>\n",
       "      <td>433</td>\n",
       "      <td>37</td>\n",
       "      <td>690.0</td>\n",
       "      <td>102 стр. 4 иллюстрации</td>\n",
       "      <td>102</td>\n",
       "      <td>['Книга отличная. Давно хотела понять как все ...</td>\n",
       "      <td>12</td>\n",
       "      <td>2023</td>\n",
       "      <td>102</td>\n",
       "      <td>1</td>\n",
       "    </tr>\n",
       "    <tr>\n",
       "      <th>775</th>\n",
       "      <td>Теоретический минимум по Computer Science. Все...</td>\n",
       "      <td>Владстон Феррейра Фило</td>\n",
       "      <td>https://www.litres.ru/book/vladston-ferreyra-f...</td>\n",
       "      <td>3.9</td>\n",
       "      <td>94</td>\n",
       "      <td>28</td>\n",
       "      <td>599.0</td>\n",
       "      <td>224 стр.</td>\n",
       "      <td>224</td>\n",
       "      <td>['Прекрасная книга. Рекомендовал и старшим шко...</td>\n",
       "      <td>16</td>\n",
       "      <td>2017</td>\n",
       "      <td>224</td>\n",
       "      <td>0</td>\n",
       "    </tr>\n",
       "    <tr>\n",
       "      <th>98</th>\n",
       "      <td>#Сам себе программист. Как научиться программи...</td>\n",
       "      <td>Кори Альтхофф</td>\n",
       "      <td>https://www.litres.ru/book/kori-althoff/sam-se...</td>\n",
       "      <td>4.2</td>\n",
       "      <td>128</td>\n",
       "      <td>25</td>\n",
       "      <td>299.0</td>\n",
       "      <td>210 стр.</td>\n",
       "      <td>210</td>\n",
       "      <td>['Отличная книга чтобы начать программировать,...</td>\n",
       "      <td>12</td>\n",
       "      <td>2017</td>\n",
       "      <td>210</td>\n",
       "      <td>0</td>\n",
       "    </tr>\n",
       "    <tr>\n",
       "      <th>692</th>\n",
       "      <td>Нейросети. Обработка естественного языка</td>\n",
       "      <td>Джейд Картер</td>\n",
       "      <td>https://www.litres.ru/book/dzheyd-karter/neyro...</td>\n",
       "      <td>5.0</td>\n",
       "      <td>377</td>\n",
       "      <td>19</td>\n",
       "      <td>690.0</td>\n",
       "      <td>231 стр. 20 иллюстраций</td>\n",
       "      <td>231</td>\n",
       "      <td>['Отличная серия! Обложки просто кайф. Много п...</td>\n",
       "      <td>12</td>\n",
       "      <td>2023</td>\n",
       "      <td>231</td>\n",
       "      <td>1</td>\n",
       "    </tr>\n",
       "    <tr>\n",
       "      <th>494</th>\n",
       "      <td>Изучаем Python: программирование игр, визуализ...</td>\n",
       "      <td>Эрик Мэтиз</td>\n",
       "      <td>https://www.litres.ru/book/erik-metiz/izuchaem...</td>\n",
       "      <td>4.3</td>\n",
       "      <td>74</td>\n",
       "      <td>18</td>\n",
       "      <td>699.0</td>\n",
       "      <td>512 стр.</td>\n",
       "      <td>512</td>\n",
       "      <td>['Осторожно, под видом второго издания продает...</td>\n",
       "      <td>16</td>\n",
       "      <td>2021</td>\n",
       "      <td>512</td>\n",
       "      <td>0</td>\n",
       "    </tr>\n",
       "    <tr>\n",
       "      <th>528</th>\n",
       "      <td>Swift. Основы разработки приложений под iOS, i...</td>\n",
       "      <td>Василий Усов</td>\n",
       "      <td>https://www.litres.ru/book/vasiliy-usov/swift-...</td>\n",
       "      <td>3.1</td>\n",
       "      <td>64</td>\n",
       "      <td>17</td>\n",
       "      <td>499.0</td>\n",
       "      <td>545 стр.</td>\n",
       "      <td>545</td>\n",
       "      <td>['Книга хорошая. Все подробно описано. Единств...</td>\n",
       "      <td>16</td>\n",
       "      <td>2021</td>\n",
       "      <td>545</td>\n",
       "      <td>0</td>\n",
       "    </tr>\n",
       "    <tr>\n",
       "      <th>89</th>\n",
       "      <td>Облачные технологии. Практическое руководство ...</td>\n",
       "      <td>Джейд Картер</td>\n",
       "      <td>https://www.litres.ru/book/dzheyd-karter/oblac...</td>\n",
       "      <td>5.0</td>\n",
       "      <td>268</td>\n",
       "      <td>17</td>\n",
       "      <td>690.0</td>\n",
       "      <td>212 стр. 5 иллюстраций</td>\n",
       "      <td>212</td>\n",
       "      <td>['Автор не перестает радовать годными книгами....</td>\n",
       "      <td>12</td>\n",
       "      <td>2024</td>\n",
       "      <td>212</td>\n",
       "      <td>1</td>\n",
       "    </tr>\n",
       "    <tr>\n",
       "      <th>458</th>\n",
       "      <td>Путь лидера</td>\n",
       "      <td>Джейд Картер</td>\n",
       "      <td>https://www.litres.ru/book/anna-kozlovceva/put...</td>\n",
       "      <td>5.0</td>\n",
       "      <td>173</td>\n",
       "      <td>17</td>\n",
       "      <td>199.0</td>\n",
       "      <td>215 стр. 10 иллюстраций</td>\n",
       "      <td>215</td>\n",
       "      <td>['Отличное руководство. Расписан каждый шаг. Д...</td>\n",
       "      <td>12</td>\n",
       "      <td>2023</td>\n",
       "      <td>215</td>\n",
       "      <td>1</td>\n",
       "    </tr>\n",
       "    <tr>\n",
       "      <th>481</th>\n",
       "      <td>Программирование на C++ в примерах и задачах</td>\n",
       "      <td>Алексей Васильев</td>\n",
       "      <td>https://www.litres.ru/book/aleksey-nikolaevich...</td>\n",
       "      <td>4.0</td>\n",
       "      <td>78</td>\n",
       "      <td>16</td>\n",
       "      <td>419.0</td>\n",
       "      <td>369 стр.</td>\n",
       "      <td>369</td>\n",
       "      <td>['Я купил эту книгу в бумажном виде, прочитав ...</td>\n",
       "      <td>12</td>\n",
       "      <td>2017</td>\n",
       "      <td>369</td>\n",
       "      <td>0</td>\n",
       "    </tr>\n",
       "    <tr>\n",
       "      <th>947</th>\n",
       "      <td>1С:Программирование для начинающих. Детям и ро...</td>\n",
       "      <td>м. г. радченко</td>\n",
       "      <td>https://www.litres.ru/book/m-g-radchenko/1s-pr...</td>\n",
       "      <td>4.0</td>\n",
       "      <td>64</td>\n",
       "      <td>15</td>\n",
       "      <td>550.0</td>\n",
       "      <td>781 стр.</td>\n",
       "      <td>781</td>\n",
       "      <td>['Эту книгу я бы рекомендовала самой первой к ...</td>\n",
       "      <td>12</td>\n",
       "      <td>2022</td>\n",
       "      <td>781</td>\n",
       "      <td>0</td>\n",
       "    </tr>\n",
       "  </tbody>\n",
       "</table>\n",
       "</div>"
      ],
      "text/plain": [
       "                                                  name  \\\n",
       "0                                     Нейросети начало   \n",
       "775  Теоретический минимум по Computer Science. Все...   \n",
       "98   #Сам себе программист. Как научиться программи...   \n",
       "692           Нейросети. Обработка естественного языка   \n",
       "494  Изучаем Python: программирование игр, визуализ...   \n",
       "528  Swift. Основы разработки приложений под iOS, i...   \n",
       "89   Облачные технологии. Практическое руководство ...   \n",
       "458                                        Путь лидера   \n",
       "481       Программирование на C++ в примерах и задачах   \n",
       "947  1С:Программирование для начинающих. Детям и ро...   \n",
       "\n",
       "                     author  \\\n",
       "0              Джейд Картер   \n",
       "775  Владстон Феррейра Фило   \n",
       "98            Кори Альтхофф   \n",
       "692            Джейд Картер   \n",
       "494              Эрик Мэтиз   \n",
       "528            Василий Усов   \n",
       "89             Джейд Картер   \n",
       "458            Джейд Картер   \n",
       "481        Алексей Васильев   \n",
       "947          м. г. радченко   \n",
       "\n",
       "                                                  link  rating  rating_count  \\\n",
       "0    https://www.litres.ru/book/dzheyd-karter/neyro...     4.9           433   \n",
       "775  https://www.litres.ru/book/vladston-ferreyra-f...     3.9            94   \n",
       "98   https://www.litres.ru/book/kori-althoff/sam-se...     4.2           128   \n",
       "692  https://www.litres.ru/book/dzheyd-karter/neyro...     5.0           377   \n",
       "494  https://www.litres.ru/book/erik-metiz/izuchaem...     4.3            74   \n",
       "528  https://www.litres.ru/book/vasiliy-usov/swift-...     3.1            64   \n",
       "89   https://www.litres.ru/book/dzheyd-karter/oblac...     5.0           268   \n",
       "458  https://www.litres.ru/book/anna-kozlovceva/put...     5.0           173   \n",
       "481  https://www.litres.ru/book/aleksey-nikolaevich...     4.0            78   \n",
       "947  https://www.litres.ru/book/m-g-radchenko/1s-pr...     4.0            64   \n",
       "\n",
       "     review_count  price                    pages  pages_count  \\\n",
       "0              37  690.0   102 стр. 4 иллюстрации          102   \n",
       "775            28  599.0                224 стр.           224   \n",
       "98             25  299.0                210 стр.           210   \n",
       "692            19  690.0  231 стр. 20 иллюстраций          231   \n",
       "494            18  699.0                512 стр.           512   \n",
       "528            17  499.0                545 стр.           545   \n",
       "89             17  690.0   212 стр. 5 иллюстраций          212   \n",
       "458            17  199.0  215 стр. 10 иллюстраций          215   \n",
       "481            16  419.0                369 стр.           369   \n",
       "947            15  550.0                781 стр.           781   \n",
       "\n",
       "                                       text_of_reviews  age  year  \\\n",
       "0    ['Книга отличная. Давно хотела понять как все ...   12  2023   \n",
       "775  ['Прекрасная книга. Рекомендовал и старшим шко...   16  2017   \n",
       "98   ['Отличная книга чтобы начать программировать,...   12  2017   \n",
       "692  ['Отличная серия! Обложки просто кайф. Много п...   12  2023   \n",
       "494  ['Осторожно, под видом второго издания продает...   16  2021   \n",
       "528  ['Книга хорошая. Все подробно описано. Единств...   16  2021   \n",
       "89   ['Автор не перестает радовать годными книгами....   12  2024   \n",
       "458  ['Отличное руководство. Расписан каждый шаг. Д...   12  2023   \n",
       "481  ['Я купил эту книгу в бумажном виде, прочитав ...   12  2017   \n",
       "947  ['Эту книгу я бы рекомендовала самой первой к ...   12  2022   \n",
       "\n",
       "     pages_myparse  is_popular  \n",
       "0              102           1  \n",
       "775            224           0  \n",
       "98             210           0  \n",
       "692            231           1  \n",
       "494            512           0  \n",
       "528            545           0  \n",
       "89             212           1  \n",
       "458            215           1  \n",
       "481            369           0  \n",
       "947            781           0  "
      ]
     },
     "execution_count": 74,
     "metadata": {},
     "output_type": "execute_result"
    }
   ],
   "source": [
    "data.sort_values(by = ['review_count'], ascending = False).head(10)"
   ]
  },
  {
   "cell_type": "markdown",
   "id": "1105828e",
   "metadata": {},
   "source": [
    "#### 9. Найдите среднюю длину отзыва (в символах)"
   ]
  },
  {
   "cell_type": "code",
   "execution_count": 181,
   "id": "862c1f34",
   "metadata": {},
   "outputs": [
    {
     "data": {
      "text/plain": [
       "'Если вы хотите начать изучать нейросети, то это то, что вам нужно. Автор очень хорошо объясняет, что такое нейросеть и как она работает. Книга содержит примеры и задания, которые помогут вам углубить свои знания в этой области. Я думаю, что эта книга подойдет для всех, кто интересуется нейросетями, независимо от уровня подготовки.'"
      ]
     },
     "execution_count": 181,
     "metadata": {},
     "output_type": "execute_result"
    }
   ],
   "source": [
    "import regex as re\n",
    "out = ' '.join(data['text_of_reviews'])\n",
    "out = out.replace('[','').replace(']','').replace(\"\\'\",'|')\n",
    "out = out.split(\"|\")\n",
    "result_list = [element for element in out if any(char.isalpha() for char in element)] #оставляем только с буквами\n",
    "result_list = [i.replace(\"'\",' ') for i in result_list]\n",
    "#пример отзыва\n",
    "result_list[1]"
   ]
  },
  {
   "cell_type": "code",
   "execution_count": 186,
   "id": "ee3bda32",
   "metadata": {},
   "outputs": [
    {
     "name": "stdout",
     "output_type": "stream",
     "text": [
      "Среднее количество символов в отзыве: 216\n"
     ]
    }
   ],
   "source": [
    "lens = [] # список с длинами отзывов\n",
    "for r in result_list:\n",
    "    lens.append(len(r))\n",
    "print(f'Среднее количество символов в отзыве: {round(sum(lens) / len(lens))}')"
   ]
  },
  {
   "cell_type": "markdown",
   "id": "7216c837",
   "metadata": {},
   "source": [
    "#### 10. Постройте таблицу корреляций числовых переменных. (1) Прокомментируйте результаты. (1)"
   ]
  },
  {
   "cell_type": "code",
   "execution_count": 77,
   "id": "fb929ba8",
   "metadata": {},
   "outputs": [
    {
     "name": "stdout",
     "output_type": "stream",
     "text": [
      "                rating  rating_count  review_count     price  pages_count  \\\n",
      "rating        1.000000      0.257016      0.402186  0.410324     0.509376   \n",
      "rating_count  0.257016      1.000000      0.683794  0.208341     0.135824   \n",
      "review_count  0.402186      0.683794      1.000000  0.309463     0.348800   \n",
      "price         0.410324      0.208341      0.309463  1.000000     0.639805   \n",
      "pages_count   0.509376      0.135824      0.348800  0.639805     1.000000   \n",
      "age           0.433156      0.221253      0.352973  0.484190     0.424448   \n",
      "\n",
      "                   age  \n",
      "rating        0.433156  \n",
      "rating_count  0.221253  \n",
      "review_count  0.352973  \n",
      "price         0.484190  \n",
      "pages_count   0.424448  \n",
      "age           1.000000  \n"
     ]
    }
   ],
   "source": [
    "# колонку year включать нет смылса хоть это и числовая переменная\n",
    "correlation_matrix = data[['rating', 'rating_count', 'review_count', 'price', 'pages_count', 'age']].corr()\n",
    "print(correlation_matrix)"
   ]
  },
  {
   "cell_type": "markdown",
   "id": "20c70204",
   "metadata": {},
   "source": [
    "Визуализируем:"
   ]
  },
  {
   "cell_type": "code",
   "execution_count": 79,
   "id": "de722e1c",
   "metadata": {},
   "outputs": [
    {
     "data": {
      "image/png": "[encoded data removed]",
      "text/plain": [
       "<Figure size 640x480 with 2 Axes>"
      ]
     },
     "metadata": {},
     "output_type": "display_data"
    }
   ],
   "source": [
    "sns.heatmap(correlation_matrix, annot=True, cmap='coolwarm')\n",
    "plt.title('Корреляционная матрица')\n",
    "plt.show()"
   ]
  },
  {
   "cell_type": "markdown",
   "id": "27efc6b6",
   "metadata": {},
   "source": [
    "Выводы:\n",
    "- наиболее выраженная коррекляция наблюдается между параметрами review_count и rating_count (0.68 - средняя связь). Это логично, так как когда ты оставляешь отзыв на книгу, то ты либо просто ставишь оценку, либо оценку+ отзыв. Письменный отзыв пишут меньше людей, но без проставления оценки ты не можешь написать отзыв\n",
    "- также корреляция есть между показателями price и pages_count. В целом здесь есть доля правды, количество страниц увеличивает стоимость книги, но это не всегда работает. Бывает, что очень популярные книги даже с небольшим количеством страниц стоят больше чем менее популярные с большим количеством страниц"
   ]
  },
  {
   "cell_type": "markdown",
   "id": "8da0091e",
   "metadata": {},
   "source": [
    "#### 11. Постройте диаграмму рассеяния (scatterplot) количества страниц и количества отзывов. Не забудьте подписать график и оси. (1) Прокомментируйте полученные результаты. (1)"
   ]
  },
  {
   "cell_type": "code",
   "execution_count": 105,
   "id": "b9772c12",
   "metadata": {},
   "outputs": [
    {
     "data": {
      "text/plain": [
       "Text(0, 0.5, 'Количество отзывов')"
      ]
     },
     "execution_count": 105,
     "metadata": {},
     "output_type": "execute_result"
    },
    {
     "data": {
      "image/png": "[encoded data removed]",
      "text/plain": [
       "<Figure size 640x480 with 1 Axes>"
      ]
     },
     "metadata": {},
     "output_type": "display_data"
    }
   ],
   "source": [
    "sns.scatterplot(x = data[\"pages_count\"], y = data[\"review_count\"])\n",
    "plt.title('Диаграмма рассевания количества страниц и количества отзывов')\n",
    "plt.xlabel('Количество страниц')\n",
    "plt.ylabel('Количество отзывов')"
   ]
  },
  {
   "cell_type": "code",
   "execution_count": 106,
   "id": "279d8b47",
   "metadata": {},
   "outputs": [
    {
     "name": "stderr",
     "output_type": "stream",
     "text": [
      "/opt/anaconda3/lib/python3.9/site-packages/seaborn/_oldcore.py:1119: FutureWarning: use_inf_as_na option is deprecated and will be removed in a future version. Convert inf values to NaN before operating instead.\n",
      "  with pd.option_context('mode.use_inf_as_na', True):\n",
      "/opt/anaconda3/lib/python3.9/site-packages/seaborn/_oldcore.py:1119: FutureWarning: use_inf_as_na option is deprecated and will be removed in a future version. Convert inf values to NaN before operating instead.\n",
      "  with pd.option_context('mode.use_inf_as_na', True):\n"
     ]
    },
    {
     "data": {
      "image/png": "[encoded data removed]",
      "text/plain": [
       "<Figure size 640x480 with 1 Axes>"
      ]
     },
     "metadata": {},
     "output_type": "display_data"
    }
   ],
   "source": [
    "sns.set_style(\"white\")\n",
    "sns.kdeplot(x = data[\"pages_count\"], y =  data[\"review_count\"], cmap=\"Reds\", fill=True)\n",
    "plt.title('Contour plot количества страниц и количества отзывов')\n",
    "plt.xlabel('Количество страниц')\n",
    "plt.ylabel('Количество отзывов')\n",
    "plt.show()"
   ]
  },
  {
   "cell_type": "markdown",
   "id": "85f5f348",
   "metadata": {},
   "source": [
    "Если посмотреть на график, а также учесть корреляцию этих параметров (около 0,34- связь отсутствует), невозможно сделать отдозначных выводов по поводу взаимосвязи данных параметров. В целом книги большого обьема читают меньше людей(соответственно, меньше наблюдений. Но если например взлянуть на точки в районе 750-1000 страниц, то можно увидеть, что есть книги, которые получили доволньо много отзывов (чуть меньше 15)  (при условии, что среднее число отзывов 1.7)"
   ]
  },
  {
   "cell_type": "markdown",
   "id": "b5ab19b4",
   "metadata": {},
   "source": [
    "#### 12. Постройте линейный график: по оси Х год, по оси Y количество книг. (1) Прокомментируйте. (1)"
   ]
  },
  {
   "cell_type": "code",
   "execution_count": 91,
   "id": "fd92826a",
   "metadata": {
    "scrolled": true
   },
   "outputs": [
    {
     "data": {
      "text/html": [
       "<div>\n",
       "<style scoped>\n",
       "    .dataframe tbody tr th:only-of-type {\n",
       "        vertical-align: middle;\n",
       "    }\n",
       "\n",
       "    .dataframe tbody tr th {\n",
       "        vertical-align: top;\n",
       "    }\n",
       "\n",
       "    .dataframe thead th {\n",
       "        text-align: right;\n",
       "    }\n",
       "</style>\n",
       "<table border=\"1\" class=\"dataframe\">\n",
       "  <thead>\n",
       "    <tr style=\"text-align: right;\">\n",
       "      <th></th>\n",
       "      <th>year</th>\n",
       "      <th>link</th>\n",
       "    </tr>\n",
       "  </thead>\n",
       "  <tbody>\n",
       "    <tr>\n",
       "      <th>0</th>\n",
       "      <td>1985</td>\n",
       "      <td>2</td>\n",
       "    </tr>\n",
       "    <tr>\n",
       "      <th>1</th>\n",
       "      <td>1995</td>\n",
       "      <td>2</td>\n",
       "    </tr>\n",
       "    <tr>\n",
       "      <th>2</th>\n",
       "      <td>2000</td>\n",
       "      <td>2</td>\n",
       "    </tr>\n",
       "    <tr>\n",
       "      <th>3</th>\n",
       "      <td>2002</td>\n",
       "      <td>1</td>\n",
       "    </tr>\n",
       "    <tr>\n",
       "      <th>4</th>\n",
       "      <td>2003</td>\n",
       "      <td>3</td>\n",
       "    </tr>\n",
       "    <tr>\n",
       "      <th>5</th>\n",
       "      <td>2004</td>\n",
       "      <td>4</td>\n",
       "    </tr>\n",
       "    <tr>\n",
       "      <th>6</th>\n",
       "      <td>2005</td>\n",
       "      <td>5</td>\n",
       "    </tr>\n",
       "    <tr>\n",
       "      <th>7</th>\n",
       "      <td>2006</td>\n",
       "      <td>28</td>\n",
       "    </tr>\n",
       "    <tr>\n",
       "      <th>8</th>\n",
       "      <td>2007</td>\n",
       "      <td>14</td>\n",
       "    </tr>\n",
       "    <tr>\n",
       "      <th>9</th>\n",
       "      <td>2008</td>\n",
       "      <td>23</td>\n",
       "    </tr>\n",
       "    <tr>\n",
       "      <th>10</th>\n",
       "      <td>2009</td>\n",
       "      <td>33</td>\n",
       "    </tr>\n",
       "    <tr>\n",
       "      <th>11</th>\n",
       "      <td>2010</td>\n",
       "      <td>56</td>\n",
       "    </tr>\n",
       "    <tr>\n",
       "      <th>12</th>\n",
       "      <td>2011</td>\n",
       "      <td>37</td>\n",
       "    </tr>\n",
       "    <tr>\n",
       "      <th>13</th>\n",
       "      <td>2012</td>\n",
       "      <td>46</td>\n",
       "    </tr>\n",
       "    <tr>\n",
       "      <th>14</th>\n",
       "      <td>2013</td>\n",
       "      <td>60</td>\n",
       "    </tr>\n",
       "    <tr>\n",
       "      <th>15</th>\n",
       "      <td>2014</td>\n",
       "      <td>56</td>\n",
       "    </tr>\n",
       "    <tr>\n",
       "      <th>16</th>\n",
       "      <td>2015</td>\n",
       "      <td>45</td>\n",
       "    </tr>\n",
       "    <tr>\n",
       "      <th>17</th>\n",
       "      <td>2016</td>\n",
       "      <td>27</td>\n",
       "    </tr>\n",
       "    <tr>\n",
       "      <th>18</th>\n",
       "      <td>2017</td>\n",
       "      <td>54</td>\n",
       "    </tr>\n",
       "    <tr>\n",
       "      <th>19</th>\n",
       "      <td>2018</td>\n",
       "      <td>47</td>\n",
       "    </tr>\n",
       "    <tr>\n",
       "      <th>20</th>\n",
       "      <td>2019</td>\n",
       "      <td>53</td>\n",
       "    </tr>\n",
       "    <tr>\n",
       "      <th>21</th>\n",
       "      <td>2020</td>\n",
       "      <td>68</td>\n",
       "    </tr>\n",
       "    <tr>\n",
       "      <th>22</th>\n",
       "      <td>2021</td>\n",
       "      <td>91</td>\n",
       "    </tr>\n",
       "    <tr>\n",
       "      <th>23</th>\n",
       "      <td>2022</td>\n",
       "      <td>71</td>\n",
       "    </tr>\n",
       "    <tr>\n",
       "      <th>24</th>\n",
       "      <td>2023</td>\n",
       "      <td>85</td>\n",
       "    </tr>\n",
       "    <tr>\n",
       "      <th>25</th>\n",
       "      <td>2024</td>\n",
       "      <td>52</td>\n",
       "    </tr>\n",
       "  </tbody>\n",
       "</table>\n",
       "</div>"
      ],
      "text/plain": [
       "    year  link\n",
       "0   1985     2\n",
       "1   1995     2\n",
       "2   2000     2\n",
       "3   2002     1\n",
       "4   2003     3\n",
       "5   2004     4\n",
       "6   2005     5\n",
       "7   2006    28\n",
       "8   2007    14\n",
       "9   2008    23\n",
       "10  2009    33\n",
       "11  2010    56\n",
       "12  2011    37\n",
       "13  2012    46\n",
       "14  2013    60\n",
       "15  2014    56\n",
       "16  2015    45\n",
       "17  2016    27\n",
       "18  2017    54\n",
       "19  2018    47\n",
       "20  2019    53\n",
       "21  2020    68\n",
       "22  2021    91\n",
       "23  2022    71\n",
       "24  2023    85\n",
       "25  2024    52"
      ]
     },
     "execution_count": 91,
     "metadata": {},
     "output_type": "execute_result"
    }
   ],
   "source": [
    "# агрегируем количество книг по году\n",
    "linechart = data.groupby(['year'], as_index = False).aggregate({'link': 'count'})\n",
    "linechart"
   ]
  },
  {
   "cell_type": "code",
   "execution_count": 107,
   "id": "4e0ad32e",
   "metadata": {},
   "outputs": [
    {
     "data": {
      "image/png": "[encoded data removed]",
      "text/plain": [
       "<Figure size 1000x600 with 1 Axes>"
      ]
     },
     "metadata": {},
     "output_type": "display_data"
    }
   ],
   "source": [
    "fig, ax = plt.subplots(figsize=(10, 6))\n",
    "ax.plot(linechart['year'], linechart['link']);\n",
    "plt.title('Динамика количества выпускаемых книг')\n",
    "plt.xlabel('Год')\n",
    "plt.ylabel('Количество выпущенных книг')\n",
    "plt.show()"
   ]
  },
  {
   "cell_type": "markdown",
   "id": "beb0c573",
   "metadata": {},
   "source": [
    "Выпускаемое количество книг по сфере IT после 2005 года стремительно растет. Есть значительный провал в 2016 году!\n",
    "В самом конце (2024 год) график уходи вниз, так как год еще не завершен, следовательно, количество книг априори будет меньше"
   ]
  },
  {
   "cell_type": "markdown",
   "id": "3aa8fc29",
   "metadata": {},
   "source": [
    "#### 13. Постройте еще любые два графика по вашему усмотрению. (2) Прокомментируйте полученные результаты. (1.5)"
   ]
  },
  {
   "cell_type": "code",
   "execution_count": null,
   "id": "402a53ac",
   "metadata": {},
   "outputs": [],
   "source": [
    "Построим скрипичный график зависимости цены (price) от флага is_popular"
   ]
  },
  {
   "cell_type": "code",
   "execution_count": 109,
   "id": "b296bd82",
   "metadata": {},
   "outputs": [
    {
     "data": {
      "image/png": "[encoded data removed]",
      "text/plain": [
       "<Figure size 640x480 with 1 Axes>"
      ]
     },
     "metadata": {},
     "output_type": "display_data"
    }
   ],
   "source": [
    "  \n",
    "sns.set_theme(style=\"darkgrid\")\n",
    " \n",
    "# Grouped violinplot\n",
    "sns.violinplot(y = data[\"price\"], x = data[\"is_popular\"], palette=\"Pastel1\")\n",
    "plt.title('Скрипичная диаграмма зависимости цены от флага популярности книги')\n",
    "plt.xlabel('Флага популярности')\n",
    "plt.ylabel('Цена')\n",
    "plt.show()"
   ]
  },
  {
   "cell_type": "markdown",
   "id": "0e29f476",
   "metadata": {},
   "source": [
    "По графику видно, что в более популярных книга средняя цена выше. Это график подтверждает расчеты в пункте номер 7. Однако на графике непопулярных книг видно, что у скрипки большой верхний хвост, то есть в непопулярных книгах цена может быть сильно высокой. Возможно, это какие-то очень большие тома теории, у которых высокая стоимость, но мало покупок и отзывов. "
   ]
  },
  {
   "cell_type": "markdown",
   "id": "1449e59a",
   "metadata": {},
   "source": [
    "Построим гистограмму для параметра review count (количество отзывов)"
   ]
  },
  {
   "cell_type": "code",
   "execution_count": 129,
   "id": "5f0d43ce",
   "metadata": {},
   "outputs": [
    {
     "name": "stderr",
     "output_type": "stream",
     "text": [
      "/opt/anaconda3/lib/python3.9/site-packages/seaborn/_oldcore.py:1119: FutureWarning: use_inf_as_na option is deprecated and will be removed in a future version. Convert inf values to NaN before operating instead.\n",
      "  with pd.option_context('mode.use_inf_as_na', True):\n"
     ]
    },
    {
     "data": {
      "text/plain": [
       "<seaborn.axisgrid.FacetGrid at 0x7fef085c8d60>"
      ]
     },
     "execution_count": 129,
     "metadata": {},
     "output_type": "execute_result"
    },
    {
     "data": {
      "image/png": "[encoded data removed]",
      "text/plain": [
       "<Figure size 500x500 with 1 Axes>"
      ]
     },
     "metadata": {},
     "output_type": "display_data"
    }
   ],
   "source": [
    "sns.displot( data = data[\"review_count\"], kde=True )"
   ]
  },
  {
   "cell_type": "markdown",
   "id": "de180a6a",
   "metadata": {},
   "source": [
    "Пролагоривмируем наш показатель"
   ]
  },
  {
   "cell_type": "code",
   "execution_count": 132,
   "id": "a3af410d",
   "metadata": {},
   "outputs": [
    {
     "name": "stderr",
     "output_type": "stream",
     "text": [
      "/opt/anaconda3/lib/python3.9/site-packages/pandas/core/arraylike.py:399: RuntimeWarning: divide by zero encountered in log2\n",
      "  result = getattr(ufunc, method)(*inputs, **kwargs)\n",
      "/opt/anaconda3/lib/python3.9/site-packages/seaborn/_oldcore.py:1119: FutureWarning: use_inf_as_na option is deprecated and will be removed in a future version. Convert inf values to NaN before operating instead.\n",
      "  with pd.option_context('mode.use_inf_as_na', True):\n"
     ]
    },
    {
     "data": {
      "text/plain": [
       "<seaborn.axisgrid.FacetGrid at 0x7fef6a95eb80>"
      ]
     },
     "execution_count": 132,
     "metadata": {},
     "output_type": "execute_result"
    },
    {
     "data": {
      "image/png": "[encoded data removed]",
      "text/plain": [
       "<Figure size 500x500 with 1 Axes>"
      ]
     },
     "metadata": {},
     "output_type": "display_data"
    }
   ],
   "source": [
    "data['review_count_log'] = np.log2(data['review_count'])\n",
    "sns.displot(data = data['review_count_log'], kde = True )"
   ]
  },
  {
   "cell_type": "markdown",
   "id": "9d8d0166",
   "metadata": {},
   "source": [
    "Распределение количества отзывов далеко от нормального"
   ]
  },
  {
   "cell_type": "markdown",
   "id": "d0bb85cc",
   "metadata": {},
   "source": [
    "**Обогатим линейный график под пунктом 12.**\n",
    "**Сделаем пузырьковую диаграмму динамики количества книг со средней ценой за книгу этого года в качестве размера пузыря"
   ]
  },
  {
   "cell_type": "code",
   "execution_count": 140,
   "id": "985be939",
   "metadata": {
    "scrolled": true
   },
   "outputs": [
    {
     "data": {
      "text/html": [
       "<div>\n",
       "<style scoped>\n",
       "    .dataframe tbody tr th:only-of-type {\n",
       "        vertical-align: middle;\n",
       "    }\n",
       "\n",
       "    .dataframe tbody tr th {\n",
       "        vertical-align: top;\n",
       "    }\n",
       "\n",
       "    .dataframe thead th {\n",
       "        text-align: right;\n",
       "    }\n",
       "</style>\n",
       "<table border=\"1\" class=\"dataframe\">\n",
       "  <thead>\n",
       "    <tr style=\"text-align: right;\">\n",
       "      <th></th>\n",
       "      <th>year</th>\n",
       "      <th>link</th>\n",
       "      <th>price</th>\n",
       "    </tr>\n",
       "  </thead>\n",
       "  <tbody>\n",
       "    <tr>\n",
       "      <th>0</th>\n",
       "      <td>1985</td>\n",
       "      <td>2</td>\n",
       "      <td>266.000000</td>\n",
       "    </tr>\n",
       "    <tr>\n",
       "      <th>1</th>\n",
       "      <td>1995</td>\n",
       "      <td>2</td>\n",
       "      <td>599.000000</td>\n",
       "    </tr>\n",
       "    <tr>\n",
       "      <th>2</th>\n",
       "      <td>2000</td>\n",
       "      <td>2</td>\n",
       "      <td>64.000000</td>\n",
       "    </tr>\n",
       "    <tr>\n",
       "      <th>3</th>\n",
       "      <td>2002</td>\n",
       "      <td>1</td>\n",
       "      <td>199.000000</td>\n",
       "    </tr>\n",
       "    <tr>\n",
       "      <th>4</th>\n",
       "      <td>2003</td>\n",
       "      <td>3</td>\n",
       "      <td>679.333333</td>\n",
       "    </tr>\n",
       "  </tbody>\n",
       "</table>\n",
       "</div>"
      ],
      "text/plain": [
       "   year  link       price\n",
       "0  1985     2  266.000000\n",
       "1  1995     2  599.000000\n",
       "2  2000     2   64.000000\n",
       "3  2002     1  199.000000\n",
       "4  2003     3  679.333333"
      ]
     },
     "execution_count": 140,
     "metadata": {},
     "output_type": "execute_result"
    }
   ],
   "source": [
    "linechart = data.groupby(['year'], as_index = False).aggregate({'link': 'count', 'price': 'mean'})\n",
    "linechart.head()"
   ]
  },
  {
   "cell_type": "code",
   "execution_count": 141,
   "id": "9f042450",
   "metadata": {},
   "outputs": [
    {
     "data": {
      "image/png": "[encoded data removed]",
      "text/plain": [
       "<Figure size 640x480 with 1 Axes>"
      ]
     },
     "metadata": {},
     "output_type": "display_data"
    }
   ],
   "source": [
    "sns.scatterplot(data = linechart, x=\"year\", y=\"link\", size = \"price\", legend = True, sizes=(40, 500))\n",
    "plt.title('Пузырьковая диаграмма динамики количества выпускаемых книг со средней ценой книг ыпуска конкретного года')\n",
    "plt.xlabel('Год')\n",
    "plt.ylabel('Количество выпущенных книг')\n",
    "plt.show()"
   ]
  },
  {
   "cell_type": "markdown",
   "id": "abe58569",
   "metadata": {},
   "source": [
    "В целом видно, что с ростом количества выпускаемых книг растет и их цена. Есть старые книги с большой ценой, но у нас малое количество наблюдений старых книг"
   ]
  },
  {
   "cell_type": "markdown",
   "id": "4f67f92a",
   "metadata": {},
   "source": [
    "#### 14.Постройте таблицу с авторами книг с именем автора, количество книг в датасете, средней оценкой книг, средним количеством отзывов. (2)."
   ]
  },
  {
   "cell_type": "code",
   "execution_count": 145,
   "id": "d9356f66",
   "metadata": {},
   "outputs": [
    {
     "data": {
      "text/html": [
       "<div>\n",
       "<style scoped>\n",
       "    .dataframe tbody tr th:only-of-type {\n",
       "        vertical-align: middle;\n",
       "    }\n",
       "\n",
       "    .dataframe tbody tr th {\n",
       "        vertical-align: top;\n",
       "    }\n",
       "\n",
       "    .dataframe thead th {\n",
       "        text-align: right;\n",
       "    }\n",
       "</style>\n",
       "<table border=\"1\" class=\"dataframe\">\n",
       "  <thead>\n",
       "    <tr style=\"text-align: right;\">\n",
       "      <th></th>\n",
       "      <th>author</th>\n",
       "      <th>name</th>\n",
       "      <th>rating</th>\n",
       "      <th>review_count</th>\n",
       "    </tr>\n",
       "  </thead>\n",
       "  <tbody>\n",
       "    <tr>\n",
       "      <th>16</th>\n",
       "      <td>А. А. Емельянов</td>\n",
       "      <td>14</td>\n",
       "      <td>0.714286</td>\n",
       "      <td>0.071429</td>\n",
       "    </tr>\n",
       "    <tr>\n",
       "      <th>274</th>\n",
       "      <td>Джейд Картер</td>\n",
       "      <td>14</td>\n",
       "      <td>4.992857</td>\n",
       "      <td>12.428571</td>\n",
       "    </tr>\n",
       "    <tr>\n",
       "      <th>670</th>\n",
       "      <td>Тимур Машнин</td>\n",
       "      <td>13</td>\n",
       "      <td>4.692308</td>\n",
       "      <td>0.769231</td>\n",
       "    </tr>\n",
       "    <tr>\n",
       "      <th>345</th>\n",
       "      <td>Е. Ю. Хрусталева</td>\n",
       "      <td>13</td>\n",
       "      <td>3.507692</td>\n",
       "      <td>3.769231</td>\n",
       "    </tr>\n",
       "    <tr>\n",
       "      <th>208</th>\n",
       "      <td>Владимир Дронов</td>\n",
       "      <td>10</td>\n",
       "      <td>4.160000</td>\n",
       "      <td>2.500000</td>\n",
       "    </tr>\n",
       "    <tr>\n",
       "      <th>...</th>\n",
       "      <td>...</td>\n",
       "      <td>...</td>\n",
       "      <td>...</td>\n",
       "      <td>...</td>\n",
       "    </tr>\n",
       "    <tr>\n",
       "      <th>272</th>\n",
       "      <td>Джей Венгроу</td>\n",
       "      <td>1</td>\n",
       "      <td>5.000000</td>\n",
       "      <td>0.000000</td>\n",
       "    </tr>\n",
       "    <tr>\n",
       "      <th>273</th>\n",
       "      <td>Джей Джей Гивакс</td>\n",
       "      <td>1</td>\n",
       "      <td>3.800000</td>\n",
       "      <td>4.000000</td>\n",
       "    </tr>\n",
       "    <tr>\n",
       "      <th>275</th>\n",
       "      <td>Джейк Вандер Плас</td>\n",
       "      <td>1</td>\n",
       "      <td>4.100000</td>\n",
       "      <td>6.000000</td>\n",
       "    </tr>\n",
       "    <tr>\n",
       "      <th>276</th>\n",
       "      <td>Джейми Чан</td>\n",
       "      <td>1</td>\n",
       "      <td>4.500000</td>\n",
       "      <td>3.000000</td>\n",
       "    </tr>\n",
       "    <tr>\n",
       "      <th>729</th>\n",
       "      <td>роберт лафоре</td>\n",
       "      <td>1</td>\n",
       "      <td>3.900000</td>\n",
       "      <td>3.000000</td>\n",
       "    </tr>\n",
       "  </tbody>\n",
       "</table>\n",
       "<p>730 rows × 4 columns</p>\n",
       "</div>"
      ],
      "text/plain": [
       "                author  name    rating  review_count\n",
       "16     А. А. Емельянов    14  0.714286      0.071429\n",
       "274       Джейд Картер    14  4.992857     12.428571\n",
       "670       Тимур Машнин    13  4.692308      0.769231\n",
       "345   Е. Ю. Хрусталева    13  3.507692      3.769231\n",
       "208    Владимир Дронов    10  4.160000      2.500000\n",
       "..                 ...   ...       ...           ...\n",
       "272       Джей Венгроу     1  5.000000      0.000000\n",
       "273   Джей Джей Гивакс     1  3.800000      4.000000\n",
       "275  Джейк Вандер Плас     1  4.100000      6.000000\n",
       "276         Джейми Чан     1  4.500000      3.000000\n",
       "729      роберт лафоре     1  3.900000      3.000000\n",
       "\n",
       "[730 rows x 4 columns]"
      ]
     },
     "execution_count": 145,
     "metadata": {},
     "output_type": "execute_result"
    }
   ],
   "source": [
    "data.groupby(['author'], as_index = False).aggregate({'name':'count', \n",
    "                                                      'rating': 'mean', \n",
    "                                  'review_count': 'mean'}).sort_values(by = ['name'], ascending = False)"
   ]
  },
  {
   "cell_type": "markdown",
   "id": "09a9e174",
   "metadata": {},
   "source": [
    "Я просортировала авторов по количеству выпущенных книг и, на удивление, человек с большим количеством выпущенных книг(14) - Емельянов имеет очень низкий средний рейтинг - 0.7, и очень низкое среднее количество отзывов.\n",
    "Для обьективности необходимо убрать из расчета книги без отзывов и какого-либо рейтинга(0)"
   ]
  },
  {
   "cell_type": "code",
   "execution_count": 152,
   "id": "67f9c5b8",
   "metadata": {},
   "outputs": [],
   "source": [
    "#заменим нулевое значение на пропуск, чтобы нули не учитывались в расчете\n",
    "#так как они оченьсильно смещают оценку. По факту рейтинг не 0 а отсутствует\n",
    "data['rating'] = data['rating'].replace({0.0 :np.nan})\n",
    "data['review_count'] = data['review_count'].replace({0.0 :np.nan})"
   ]
  },
  {
   "cell_type": "code",
   "execution_count": 153,
   "id": "2f17f3c3",
   "metadata": {},
   "outputs": [
    {
     "data": {
      "text/html": [
       "<div>\n",
       "<style scoped>\n",
       "    .dataframe tbody tr th:only-of-type {\n",
       "        vertical-align: middle;\n",
       "    }\n",
       "\n",
       "    .dataframe tbody tr th {\n",
       "        vertical-align: top;\n",
       "    }\n",
       "\n",
       "    .dataframe thead th {\n",
       "        text-align: right;\n",
       "    }\n",
       "</style>\n",
       "<table border=\"1\" class=\"dataframe\">\n",
       "  <thead>\n",
       "    <tr style=\"text-align: right;\">\n",
       "      <th></th>\n",
       "      <th>author</th>\n",
       "      <th>name</th>\n",
       "      <th>rating</th>\n",
       "      <th>review_count</th>\n",
       "    </tr>\n",
       "  </thead>\n",
       "  <tbody>\n",
       "    <tr>\n",
       "      <th>16</th>\n",
       "      <td>А. А. Емельянов</td>\n",
       "      <td>14</td>\n",
       "      <td>3.333333</td>\n",
       "      <td>1.000000</td>\n",
       "    </tr>\n",
       "    <tr>\n",
       "      <th>274</th>\n",
       "      <td>Джейд Картер</td>\n",
       "      <td>14</td>\n",
       "      <td>4.992857</td>\n",
       "      <td>12.428571</td>\n",
       "    </tr>\n",
       "    <tr>\n",
       "      <th>670</th>\n",
       "      <td>Тимур Машнин</td>\n",
       "      <td>13</td>\n",
       "      <td>4.692308</td>\n",
       "      <td>1.666667</td>\n",
       "    </tr>\n",
       "    <tr>\n",
       "      <th>345</th>\n",
       "      <td>Е. Ю. Хрусталева</td>\n",
       "      <td>13</td>\n",
       "      <td>4.560000</td>\n",
       "      <td>4.454545</td>\n",
       "    </tr>\n",
       "    <tr>\n",
       "      <th>208</th>\n",
       "      <td>Владимир Дронов</td>\n",
       "      <td>10</td>\n",
       "      <td>4.160000</td>\n",
       "      <td>3.125000</td>\n",
       "    </tr>\n",
       "    <tr>\n",
       "      <th>...</th>\n",
       "      <td>...</td>\n",
       "      <td>...</td>\n",
       "      <td>...</td>\n",
       "      <td>...</td>\n",
       "    </tr>\n",
       "    <tr>\n",
       "      <th>272</th>\n",
       "      <td>Джей Венгроу</td>\n",
       "      <td>1</td>\n",
       "      <td>5.000000</td>\n",
       "      <td>NaN</td>\n",
       "    </tr>\n",
       "    <tr>\n",
       "      <th>273</th>\n",
       "      <td>Джей Джей Гивакс</td>\n",
       "      <td>1</td>\n",
       "      <td>3.800000</td>\n",
       "      <td>4.000000</td>\n",
       "    </tr>\n",
       "    <tr>\n",
       "      <th>275</th>\n",
       "      <td>Джейк Вандер Плас</td>\n",
       "      <td>1</td>\n",
       "      <td>4.100000</td>\n",
       "      <td>6.000000</td>\n",
       "    </tr>\n",
       "    <tr>\n",
       "      <th>276</th>\n",
       "      <td>Джейми Чан</td>\n",
       "      <td>1</td>\n",
       "      <td>4.500000</td>\n",
       "      <td>3.000000</td>\n",
       "    </tr>\n",
       "    <tr>\n",
       "      <th>729</th>\n",
       "      <td>роберт лафоре</td>\n",
       "      <td>1</td>\n",
       "      <td>3.900000</td>\n",
       "      <td>3.000000</td>\n",
       "    </tr>\n",
       "  </tbody>\n",
       "</table>\n",
       "<p>730 rows × 4 columns</p>\n",
       "</div>"
      ],
      "text/plain": [
       "                author  name    rating  review_count\n",
       "16     А. А. Емельянов    14  3.333333      1.000000\n",
       "274       Джейд Картер    14  4.992857     12.428571\n",
       "670       Тимур Машнин    13  4.692308      1.666667\n",
       "345   Е. Ю. Хрусталева    13  4.560000      4.454545\n",
       "208    Владимир Дронов    10  4.160000      3.125000\n",
       "..                 ...   ...       ...           ...\n",
       "272       Джей Венгроу     1  5.000000           NaN\n",
       "273   Джей Джей Гивакс     1  3.800000      4.000000\n",
       "275  Джейк Вандер Плас     1  4.100000      6.000000\n",
       "276         Джейми Чан     1  4.500000      3.000000\n",
       "729      роберт лафоре     1  3.900000      3.000000\n",
       "\n",
       "[730 rows x 4 columns]"
      ]
     },
     "execution_count": 153,
     "metadata": {},
     "output_type": "execute_result"
    }
   ],
   "source": [
    "data.groupby(['author'], as_index = False).aggregate({'name':'count', \n",
    "                                                      'rating': 'mean', \n",
    "                                  'review_count': 'mean'}).sort_values(by = ['name'], ascending = False)"
   ]
  },
  {
   "cell_type": "markdown",
   "id": "878d2406",
   "metadata": {},
   "source": [
    "Оценка стала более справедливой"
   ]
  },
  {
   "cell_type": "code",
   "execution_count": null,
   "id": "36d2234f",
   "metadata": {},
   "outputs": [],
   "source": []
  }
 ],
 "metadata": {
  "kernelspec": {
   "display_name": "Python 3 (ipykernel)",
   "language": "python",
   "name": "python3"
  },
  "language_info": {
   "codemirror_mode": {
    "name": "ipython",
    "version": 3
   },
   "file_extension": ".py",
   "mimetype": "text/x-python",
   "name": "python",
   "nbconvert_exporter": "python",
   "pygments_lexer": "ipython3",
   "version": "3.9.19"
  }
 },
 "nbformat": 4,
 "nbformat_minor": 5
}
